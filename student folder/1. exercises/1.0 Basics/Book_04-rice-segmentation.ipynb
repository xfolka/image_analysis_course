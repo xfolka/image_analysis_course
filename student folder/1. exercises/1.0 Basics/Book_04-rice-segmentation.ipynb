{
 "cells": [
  {
   "cell_type": "markdown",
   "id": "58c5e1cf-a494-4f23-9beb-5d7fae0aecfe",
   "metadata": {},
   "source": [
    "## Importing libraries\n",
    "* scikit-image input output functionality (for reading images)\n",
    "* matplotlib.pyplot for plotting"
   ]
  },
  {
   "cell_type": "code",
   "execution_count": null,
   "id": "27e16ceb-fa52-4fe6-ba31-8029ffc29797",
   "metadata": {},
   "outputs": [],
   "source": [
    "import skimage.io as skio\n",
    "import matplotlib.pyplot as plt"
   ]
  },
  {
   "cell_type": "markdown",
   "id": "c70ea95c-a620-4140-a178-73c937f9a9f3",
   "metadata": {},
   "source": [
    "## Reading a demo tif file\n",
    "Read the image and ask for its shape"
   ]
  },
  {
   "cell_type": "code",
   "execution_count": null,
   "id": "e235c782-aeb6-44a4-94d7-28b0cf9f6556",
   "metadata": {},
   "outputs": [],
   "source": [
    "#read the image using skimage at location ../data/rice.tif\n",
    "img = skio.imread(\"../data/rice.tif\")\n",
    "\n",
    "#print the shape of the image\n",
    "img.shape\n",
    "\n",
    "# !note how ipython prints the output"
   ]
  },
  {
   "cell_type": "markdown",
   "id": "5144d17f-e8bc-47ae-972b-ff8a586c3e54",
   "metadata": {},
   "source": [
    "Plot the image data. Use matploitlib to plot the image and make sure it was loaded correctly\n",
    "We can customize the plot to our needs.\n",
    "\n",
    "We also print the min and max value if the pixels (gray scale)"
   ]
  },
  {
   "cell_type": "code",
   "execution_count": null,
   "id": "7ff300b7-5fc9-49d2-874e-54a2fc5b7ab8",
   "metadata": {},
   "outputs": [],
   "source": [
    "plt.figure(figsize=(4, 4), dpi=300)\n",
    "plt.imshow(img, cmap=\"gray\")\n",
    "plt.colorbar()\n",
    "plt.title('Rice image')\n",
    "plt.axis('off')\n",
    "# also print the min and max value of the iamge\n",
    "print('min pixel value: ', img.min())\n",
    "print('max pixel value: ', img.max())"
   ]
  },
  {
   "cell_type": "markdown",
   "id": "3f06a0b4-4fa4-47d8-9247-5701c2c6f80a",
   "metadata": {},
   "source": [
    "## Trying to segment the image\n",
    "Let us try to segment the image without any pre-processing using the otsu method.\n",
    "\n",
    "Import threshold_otsu from skimage.filters\n",
    "apply the filter to the image to get the threshold\n",
    "print the threshold for information\n",
    "get a new image by teking all pixels with values larger than threshold"
   ]
  },
  {
   "cell_type": "code",
   "execution_count": null,
   "id": "92c3ebe4-30fa-4460-afd3-f1fab94c480b",
   "metadata": {},
   "outputs": [],
   "source": [
    "\n",
    "# importing otsu from scikit-image\n",
    "from skimage.filters import threshold_otsu\n",
    "th_val = threshold_otsu(img)\n",
    "print('The value is: ', th_val)\n",
    "\n",
    "#bw_otsu is now the binary image created by thresholding the original image with the otsu value\n",
    "bw_otsu = img > th_val\n"
   ]
  },
  {
   "cell_type": "markdown",
   "id": "7eadabf6-da22-42b0-b8a9-7829a59c7ac1",
   "metadata": {},
   "source": [
    "Show the \"segmented\" image"
   ]
  },
  {
   "cell_type": "code",
   "execution_count": null,
   "id": "addf98d4-41d6-4866-9284-78b8fb817cac",
   "metadata": {},
   "outputs": [],
   "source": [
    "\n",
    "\n",
    "plt.figure(figsize=(4, 4), dpi=300)\n",
    "plt.imshow(bw_otsu, cmap='gray')\n",
    "plt.colorbar()\n",
    "plt.title('Rice segmentation')\n",
    "plt.axis('off')"
   ]
  },
  {
   "cell_type": "markdown",
   "id": "190b48c9-fa15-40ad-af3a-6ba40404d44e",
   "metadata": {},
   "source": [
    "Unfortunately the segmentation is not good due to uneven illumination.\n",
    "## Pre-processing to remove uneven illumination\n",
    "For this we will use a simple gaussian blur.\n",
    "\n",
    "Import gaussian from skimage.filters\n",
    "\n",
    "create the blurred image from the orginal image\n"
   ]
  },
  {
   "cell_type": "code",
   "execution_count": null,
   "id": "da628b8a-b165-4eab-bae6-7201bd951b09",
   "metadata": {},
   "outputs": [],
   "source": [
    "# importing gaussian filter from scikit-image\n",
    "from skimage.filters import gaussian\n",
    "img_bg = gaussian(img,sigma=50,preserve_range=True)"
   ]
  },
  {
   "cell_type": "markdown",
   "id": "d3723b38",
   "metadata": {},
   "source": [
    "Plot the blurred imaged"
   ]
  },
  {
   "cell_type": "code",
   "execution_count": null,
   "id": "d191d1fc-d8c7-47cb-b897-2f91106686f6",
   "metadata": {},
   "outputs": [],
   "source": [
    "\n",
    "plt.figure(figsize=(4, 4), dpi=300)\n",
    "plt.imshow(img_bg, cmap=plt.cm.gray)\n",
    "plt.colorbar()\n",
    "plt.title('Background')\n",
    "plt.axis('off')"
   ]
  },
  {
   "cell_type": "markdown",
   "id": "1f6d18d3-040f-4113-80a0-b9cf005de16f",
   "metadata": {},
   "source": [
    "Remove background from image and plot the resulting image"
   ]
  },
  {
   "cell_type": "code",
   "execution_count": null,
   "id": "0d4f8d05-0448-438d-aad6-5b5b863520db",
   "metadata": {},
   "outputs": [],
   "source": [
    "img_no_bg = img - img_bg\n",
    "\n",
    "plt.figure(figsize=(4, 4), dpi=300)\n",
    "plt.imshow(img_no_bg, cmap='gray')\n",
    "plt.colorbar()\n",
    "print('min pixel value: ',img_no_bg.min())\n",
    "print('max pixel value: ',img_no_bg.max())\n",
    "plt.title('Background corrected')\n",
    "plt.axis('off')"
   ]
  },
  {
   "cell_type": "markdown",
   "id": "1b1f1479-a5df-47b6-ad1c-700d1399d7b9",
   "metadata": {},
   "source": [
    "Now we redo the segmentation on the pre-processed image:\n",
    "calculate otsu threshold\n",
    "take pixels with higher values than threshold"
   ]
  },
  {
   "cell_type": "code",
   "execution_count": null,
   "id": "76ee9d23-cf10-45ab-a34b-9e8ecaeabd79",
   "metadata": {},
   "outputs": [],
   "source": [
    "th_val = threshold_otsu(img_no_bg)\n",
    "print('The value is: ', th_val)\n",
    "bw_otsu = img_no_bg > th_val\n"
   ]
  },
  {
   "cell_type": "markdown",
   "id": "b5da59a7",
   "metadata": {},
   "source": [
    "Plot the resulting image"
   ]
  },
  {
   "cell_type": "code",
   "execution_count": null,
   "id": "ad0d80bb",
   "metadata": {},
   "outputs": [],
   "source": [
    "plt.figure(figsize=(4, 4), dpi=300)\n",
    "plt.imshow(bw_otsu, cmap='gray')\n",
    "plt.colorbar()\n",
    "plt.title('Rice segmentation\\nafter correction')\n",
    "plt.axis('off')"
   ]
  },
  {
   "cell_type": "markdown",
   "id": "6f24f9f1",
   "metadata": {},
   "source": [
    "**Much better! :D**"
   ]
  },
  {
   "cell_type": "markdown",
   "id": "9e327a8b-ebb3-4c42-99e9-a759c6ec5fc5",
   "metadata": {},
   "source": [
    "## Simple quantification\n",
    "Now we will use scikit-image together with pandas to create output tables from our results and then plot some values of interest, in this case area.\n",
    "\n",
    "Import label and regionprops_table from skimage.measure\n",
    "clear_border from skimage.segmentation\n",
    "and are_opening from skimage-morphology.\n",
    "\n",
    "Also import pandas as pd"
   ]
  },
  {
   "cell_type": "code",
   "execution_count": null,
   "id": "fe0c66b2-4e45-4234-a2dd-eb99d202a127",
   "metadata": {},
   "outputs": [],
   "source": [
    "import pandas as pd\n",
    "from skimage.measure import label, regionprops_table\n",
    "from skimage.segmentation import clear_border\n",
    "from skimage.morphology import area_opening"
   ]
  },
  {
   "cell_type": "markdown",
   "id": "da22cfbf",
   "metadata": {},
   "source": [
    "Remove segments that touch the border of the image\n",
    "\n",
    "Remove small objects by doing \"area opening\"\n",
    "\n",
    "Do connected component analysis to assign unique ids to each object"
   ]
  },
  {
   "cell_type": "code",
   "execution_count": null,
   "id": "58f66888",
   "metadata": {},
   "outputs": [],
   "source": [
    "# remove segmentations that touch the border of the iamge\n",
    "clr_border = clear_border(bw_otsu)\n",
    "\n",
    "# remove small objects\n",
    "opened = area_opening(clr_border, area_threshold=200)\n",
    "\n",
    "# run connected component analysis\n",
    "lbl = label(opened)"
   ]
  },
  {
   "cell_type": "markdown",
   "id": "d761ce1f",
   "metadata": {},
   "source": [
    "Plot the result"
   ]
  },
  {
   "cell_type": "code",
   "execution_count": null,
   "id": "affff787-ecd5-4cfd-8e98-ad7ed5249277",
   "metadata": {},
   "outputs": [],
   "source": [
    "fig, axes = plt.subplots(1, 3, figsize=(20, 8), dpi=100)\n",
    "\n",
    "axes[0].imshow(clr_border, cmap='gray')\n",
    "axes[1].imshow(opened, cmap='gray')\n",
    "axes[2].imshow(lbl)\n",
    "\n",
    "for ax in axes:\n",
    "    ax.axis('off')  # Hide axes/ticks for a cleaner look\n",
    "\n",
    "plt.tight_layout()\n",
    "plt.show()\n",
    "                       "
   ]
  },
  {
   "cell_type": "markdown",
   "id": "d7ab8336-6b0a-47c1-bece-98965a9e11c3",
   "metadata": {},
   "source": [
    "Now we can calculate some properties, both morphological and intensity based"
   ]
  },
  {
   "cell_type": "code",
   "execution_count": null,
   "id": "1866635b-7d4a-458d-b6f2-b5aef4ff5f20",
   "metadata": {},
   "outputs": [],
   "source": [
    "properties = ['label', 'area','eccentricity','intensity_mean']\n",
    "table = regionprops_table(label_image=lbl,\n",
    "                          intensity_image=img,\n",
    "                          properties=properties)\n",
    "table = pd.DataFrame(table)\n",
    "print(\"Head of the table:\")\n",
    "print(table.head())\n",
    "print(\"\\n\")\n",
    "\n",
    "print(\"Summary statistics of the table:\")\n",
    "print(table.describe())\n",
    "\n",
    "\n",
    "table.hist(column='area', figsize=(4, 4))"
   ]
  },
  {
   "cell_type": "markdown",
   "id": "517a97f1",
   "metadata": {},
   "source": [
    "Look at the webpage https://scikit-image.org/docs/0.25.x/api/skimage.measure.html#skimage.measure.regionprops\n",
    "\n",
    "are there any oither properties that could be interesting to add to the table?\n",
    "\n",
    "Add or replace a few of the properties and plot som of them\n",
    "\n",
    "For example, see if you can find one more property that is similar between the objects and one property that appears very random. Plot their respective histograms."
   ]
  },
  {
   "cell_type": "code",
   "execution_count": null,
   "id": "8c1f31b2",
   "metadata": {},
   "outputs": [],
   "source": [
    "properties = ['label', 'area','eccentricity','intensity_mean','perimeter', 'orientation', 'extent','feret_diameter_max'] #add more properties here\n",
    "table = regionprops_table(label_image=lbl,\n",
    "                          intensity_image=img,\n",
    "                          properties=properties)\n",
    "table = pd.DataFrame(table)\n",
    "table.hist(column='feret_diameter_max', figsize=(4, 4))"
   ]
  }
 ],
 "metadata": {
  "kernelspec": {
   "display_name": "imganalysis",
   "language": "python",
   "name": "python3"
  },
  "language_info": {
   "codemirror_mode": {
    "name": "ipython",
    "version": 3
   },
   "file_extension": ".py",
   "mimetype": "text/x-python",
   "name": "python",
   "nbconvert_exporter": "python",
   "pygments_lexer": "ipython3",
   "version": "3.12.11"
  }
 },
 "nbformat": 4,
 "nbformat_minor": 5
}
