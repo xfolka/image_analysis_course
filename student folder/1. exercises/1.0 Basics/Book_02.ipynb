{
 "cells": [
  {
   "cell_type": "markdown",
   "metadata": {},
   "source": [
    "# Book 2: Working with Pandas\n",
    "\n",
    "Here we will go over how to use ```pandas``` to read ```.csv``` files and then make a simple plot\n",
    "\n",
    "## Using Pandas to read csv files into data tables\n",
    "\n",
    "Now we will use a well known package called [pandas](https://pandas.pydata.org/) to load ```.csv``` files into data tables called **data frames**.\n",
    "The package pandas is included in the conda environment we created earlier and is already installed in your python environment.\n",
    "\n",
    "To read csv file into a data frame use\n",
    "```\n",
    "import pandas as pd \n",
    "\n",
    "df1 = pd.read_csv('../data/Results_01.csv')\n",
    "```\n",
    "\n",
    "To show the first few lines of what the data frame contains use\n",
    "```\n",
    "df1.head()\n",
    "```"
   ]
  },
  {
   "cell_type": "code",
   "execution_count": null,
   "metadata": {},
   "outputs": [],
   "source": [
    "\n",
    "#read a dataframe and show the first rows"
   ]
  },
  {
   "cell_type": "markdown",
   "metadata": {},
   "source": [
    "## dtypes:\n",
    "DTypes reprsent the way data is stored in pandas (and other libraries as well). It can be a quick way to check that your data is loaded properly.\n",
    "\n",
    "Some dTypes are:\n",
    "object -> string or mixed\n",
    "\n",
    "int64 -> integer\n",
    "\n",
    "float64 -> float\n",
    "\n",
    "bool -> logical true/false\n",
    "\n",
    "Print the dTypes of the data frame\n",
    "``` \n",
    "df1.dtypes\n",
    "```"
   ]
  },
  {
   "cell_type": "code",
   "execution_count": null,
   "metadata": {},
   "outputs": [],
   "source": []
  },
  {
   "cell_type": "markdown",
   "metadata": {},
   "source": [
    "## Getting basic statistics\n",
    "\n",
    "Now that we have tabular data, then we can do classical operations like calculating the mean value of a particular column.\n",
    "\n",
    "```\n",
    "df1[\"Area\"].mean()\n",
    "```"
   ]
  },
  {
   "cell_type": "code",
   "execution_count": null,
   "metadata": {},
   "outputs": [],
   "source": [
    "# Get the mean of column \"Area\" "
   ]
  },
  {
   "cell_type": "markdown",
   "metadata": {},
   "source": [
    "As we saw before f-strings are a good way to format the values you want to print.\n",
    "\n",
    "```\n",
    "val = df1[\"Area\"].mean()\n",
    "print(f\"The mean value of Area is: {val:.3f}.\")\n",
    "```"
   ]
  },
  {
   "cell_type": "code",
   "execution_count": null,
   "metadata": {},
   "outputs": [],
   "source": [
    "# Use f-strings to format the output\n",
    "# start by storing the mean value in a variable"
   ]
  },
  {
   "cell_type": "markdown",
   "metadata": {},
   "source": [
    "We can also get a simple summary of statistics\n",
    "\n",
    "```\n",
    "df1[\"Area\"].describe()\n",
    "```"
   ]
  },
  {
   "cell_type": "code",
   "execution_count": null,
   "metadata": {},
   "outputs": [],
   "source": []
  },
  {
   "cell_type": "markdown",
   "metadata": {},
   "source": [
    "## Using Pandas to make basic plots\n",
    "\n",
    "Pandas can be used to do many statistical operations but also to do basic plots easily. Together with another commonly use library Matplotlib, you can easily make different plots of your data. Matplotlib is installed in your python environment so try it out!\n",
    "\n",
    "```\n",
    "# simple histogram\n",
    "ax = df1.hist(column='Area',  bins=15, figsize=(6,4))\n",
    "\n",
    "#set label on y axis here\n",
    "ax0 = ax[0,0]\n",
    "ax0.set_ylabel('occurence')\n",
    "```"
   ]
  },
  {
   "cell_type": "code",
   "execution_count": null,
   "metadata": {},
   "outputs": [],
   "source": []
  }
 ],
 "metadata": {
  "kernelspec": {
   "display_name": "imganalysis",
   "language": "python",
   "name": "python3"
  },
  "language_info": {
   "codemirror_mode": {
    "name": "ipython",
    "version": 3
   },
   "file_extension": ".py",
   "mimetype": "text/x-python",
   "name": "python",
   "nbconvert_exporter": "python",
   "pygments_lexer": "ipython3",
   "version": "3.12.11"
  },
  "orig_nbformat": 4
 },
 "nbformat": 4,
 "nbformat_minor": 2
}
