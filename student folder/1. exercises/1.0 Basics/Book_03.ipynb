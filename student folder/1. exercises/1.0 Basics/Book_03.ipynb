{
 "cells": [
  {
   "cell_type": "markdown",
   "metadata": {},
   "source": [
    "# Book 3: How to concatenate data frames\n",
    "\n",
    "Here we will go over how to use ```pandas``` to read several ```.csv``` files and then **concatenate** them into a single table. This is very useful to load the results of different conditions, or biological replicates, and to **tag** these conditions so we can later use them to compare results and do statistical tests.\n",
    "\n",
    "## Load the data\n",
    "Let us use what we learned before to load the ```.csv``` table into a data frame"
   ]
  },
  {
   "cell_type": "code",
   "execution_count": null,
   "metadata": {},
   "outputs": [],
   "source": [
    "import pandas as pd \n",
    "\n",
    "df1 = pd.read_csv('../data/Results_01.csv')\n",
    "\n",
    "df1.head()"
   ]
  },
  {
   "cell_type": "markdown",
   "metadata": {},
   "source": [
    "We can add a new column to the data frame with information about the student that made the analysis.\n",
    "\n",
    "```\n",
    "df1['Student'] = '01'\n",
    "# Now I use \"sample\" to get 10 random examples from the table\n",
    "df1.sample(10)\n",
    "```"
   ]
  },
  {
   "cell_type": "code",
   "execution_count": null,
   "metadata": {},
   "outputs": [],
   "source": []
  },
  {
   "cell_type": "markdown",
   "metadata": {},
   "source": [
    "Now we can read a second dataset, and add an extra \"student\" 02 tag\n",
    "\n",
    "```\n",
    "df2 = pd.read_csv('../data/Results_02.csv')\n",
    "df2['Student'] = '02'\n",
    "df2.head()\n",
    "```"
   ]
  },
  {
   "cell_type": "code",
   "execution_count": null,
   "metadata": {},
   "outputs": [],
   "source": []
  },
  {
   "cell_type": "markdown",
   "metadata": {},
   "source": [
    "Lets see if there are small differences or not by plotting histograms of the different areas\n",
    "\n",
    "```\n",
    "val = df1[\"Area\"].mean()\n",
    "print(f\"The mean value of Area for Student 1 is: {val:.3f}.\")\n",
    "df1.hist(column='Area')\n",
    "\n",
    "val = df2[\"Area\"].mean()\n",
    "print(f\"The mean value of Area for Student 2 is: {val:.3f}.\")\n",
    "df2.hist(column='Area')\n",
    "```"
   ]
  },
  {
   "cell_type": "code",
   "execution_count": null,
   "metadata": {},
   "outputs": [],
   "source": []
  },
  {
   "cell_type": "markdown",
   "metadata": {},
   "source": [
    "Now instead of keeping track of different data frames is easier if we put these tables together. This operation is called concatenation.\n",
    "\n",
    "```\n",
    "# concatenate\n",
    "df = pd.concat([df1, df2])\n",
    "df.sample(10)\n",
    "```"
   ]
  },
  {
   "cell_type": "code",
   "execution_count": null,
   "metadata": {},
   "outputs": [],
   "source": []
  },
  {
   "cell_type": "markdown",
   "metadata": {},
   "source": [
    "Now let us do a basic boxplot to see if the results of both students are significantly different from one another. Here we benefit from the **Student** tag, we can ask the boxplot to sort the results based on this column value using the ```by=``` parameter.\n",
    "\n",
    "```\n",
    "df.boxplot(column=\"Area\",by=\"Student\")\n",
    "```"
   ]
  },
  {
   "cell_type": "code",
   "execution_count": null,
   "metadata": {},
   "outputs": [],
   "source": []
  },
  {
   "cell_type": "markdown",
   "metadata": {},
   "source": [
    "# How to save data frames into new .csv files\n",
    "\n",
    "Now that we have concatenated all our tables into a new more pratical one we can then save this new table.\n",
    "\n",
    "```\n",
    "# writting the table\n",
    "df.to_csv('../data/Results_total.csv')\n",
    "\n",
    "```"
   ]
  },
  {
   "cell_type": "code",
   "execution_count": null,
   "metadata": {},
   "outputs": [],
   "source": [
    "#save the combined dataframe"
   ]
  }
 ],
 "metadata": {
  "kernelspec": {
   "display_name": "imganalysis",
   "language": "python",
   "name": "python3"
  },
  "language_info": {
   "codemirror_mode": {
    "name": "ipython",
    "version": 3
   },
   "file_extension": ".py",
   "mimetype": "text/x-python",
   "name": "python",
   "nbconvert_exporter": "python",
   "pygments_lexer": "ipython3",
   "version": "3.12.11"
  },
  "orig_nbformat": 4
 },
 "nbformat": 4,
 "nbformat_minor": 2
}
