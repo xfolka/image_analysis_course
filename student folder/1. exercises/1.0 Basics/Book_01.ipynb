{
 "cells": [
  {
   "cell_type": "markdown",
   "id": "c7754642",
   "metadata": {},
   "source": [
    "# Book 1: Basic python and reading images and metadata\n",
    "\n",
    "\n",
    "Here we will go over how to use code basic python, read image files and look at metadata\n",
    "\n",
    "## Simple math with just Python\n",
    "\n",
    "We will create 2 numeric variables ```a``` and ```b``` and then ```print``` their sum.\n",
    "```\n",
    "a = 3\n",
    "b = 4\n",
    "print(a+b)\n",
    "```"
   ]
  },
  {
   "cell_type": "code",
   "execution_count": null,
   "id": "34faf413",
   "metadata": {},
   "outputs": [],
   "source": []
  },
  {
   "cell_type": "markdown",
   "id": "511c9b4d",
   "metadata": {},
   "source": [
    "Lest play a bit with strings.\n",
    "Declare two variables, str_1 and str_2, and assign the strings \"I am\" and \"Having fun\" respectively\n",
    "```\n",
    "str_1 = \"I am\"\n",
    "str_2 = \"having fun\"\n",
    "``` \n",
    "\n",
    "print the concatenation of the strings (the strings added together) using the + operator\n",
    "```\n",
    "print(str_1 + str_2)\n",
    "```\n",
    "\n",
    "A better and more pythonic way to print variables are f-strings.\n",
    "By prepending the string with an 'f' you can print almost any variable using curly brackets {variable_here}\n",
    "\n",
    "```\n",
    "print(f\"{str_1} able to do basic math, and I am {str_2}\")\n",
    "```\n",
    "\n",
    "By the way, lines starting with a '#' are comments in python and will not do anything with your calculations"
   ]
  },
  {
   "cell_type": "code",
   "execution_count": null,
   "id": "bc852d1d",
   "metadata": {},
   "outputs": [],
   "source": [
    "#Define two string variables\n",
    "\n",
    "#print the concatenation of the two strings\n",
    "#this works very much similar to IJ Macros\n",
    "\n",
    "\n",
    "#so called f-strings are a cool way of controlling better what info you print\n",
    "#print using f-string here"
   ]
  },
  {
   "cell_type": "markdown",
   "id": "361ae9b5",
   "metadata": {},
   "source": [
    "Just as in Fiji/ImageJ we can use for-loops and if statements in python.\n",
    "For example, to print the numbers 0 to 9 we do this:\n",
    "```\n",
    "for i in range(0,10):\n",
    "    print(i)\n",
    "```\n",
    "Note that the print has to be indented relative to the for.\n",
    "\n",
    "you can shorten the range statement to ```range(10)``` (the 0 is implied)\n"
   ]
  },
  {
   "cell_type": "code",
   "execution_count": null,
   "id": "839ec429",
   "metadata": {},
   "outputs": [],
   "source": [
    "#try the for loop to print numbers from 0 to 9\n",
    "\n",
    "\n",
    "#how would you print the string \"the number is: \" followed by the number in the for loop?"
   ]
  },
  {
   "cell_type": "markdown",
   "id": "461f3f66",
   "metadata": {},
   "source": [
    "### Forget about the curly braces!!\n",
    "You might remember the little ```{   }``` characters from fiji macros. Please forget about them for today. Python does not use them. Instead python uses indentation:\n",
    "\n",
    "```\n",
    "for i in range(0,10):\n",
    "    print(\"this will be printed 10 times\")\n",
    "    print(\"this will also be printed 10 times)\n",
    "\n",
    "print(\"this will only print once because it is not inented and thus does not belong to the for-loop\")\n",
    "```\n",
    "\n",
    "Also, forget about the semicolons ;)\n"
   ]
  },
  {
   "cell_type": "markdown",
   "id": "afcc7283",
   "metadata": {},
   "source": [
    "When we want to make decisions depending on some condition we use if-statments.\n",
    "For example if a number is bigger than a certain limit we can print \"big\" and print \"small\" when it is not:\n",
    "\n",
    "```\n",
    "my_number = 7\n",
    "limit = 5\n",
    "\n",
    "if my_number > limit:\n",
    "    print(\"big\")\n",
    "else\n",
    "    print (\"small\")\n",
    "```\n"
   ]
  },
  {
   "cell_type": "code",
   "execution_count": null,
   "id": "b993983e",
   "metadata": {},
   "outputs": [],
   "source": [
    "#try the simple if statement below, changing the value of a to see what happens"
   ]
  },
  {
   "cell_type": "markdown",
   "id": "aee5f436",
   "metadata": {},
   "source": [
    "Can we combine for loops and if statments? Of course :)\n",
    "\n",
    "Using for and if, write a piece of code that prints only the numbers that are larger than 5\n",
    "\n",
    "extra question: can you do it without using and if-statment?"
   ]
  },
  {
   "cell_type": "code",
   "execution_count": null,
   "id": "461cf2a1",
   "metadata": {},
   "outputs": [],
   "source": [
    "#Write a piece of code that prints only the numbers that are larger than 5 using both for and if\n",
    "\n",
    "\n",
    "\n",
    "\n",
    "#extra question: Do it without using and if-statment\n",
    "\n",
    "\n"
   ]
  },
  {
   "cell_type": "markdown",
   "id": "04549fd0",
   "metadata": {},
   "source": [
    "Sometimes we want to loop over a collection of data and at the same time know the location, or index, of the data in the collection.\n",
    "For example, looping over all files in a directory can be done with\n",
    "\n",
    "```\n",
    "import glob\n",
    "my_directory = \"../data/\"\n",
    "for file_name in glob.glob(my_directory + \"*.*\"):\n",
    "    print(file_name)\n",
    "```\n",
    "\n",
    "but this 'only' gives us the filenames. To get the index of each file we can use the function enumerate, like this:\n",
    "```\n",
    "for i, file_name in enumerate(glob.glob(my_directory + \"*.*\")):\n",
    "    print(f\"the file {file_name} has index {i}\")\n",
    "```\n",
    "the pattern matching string \"*.*\" selects all files in the directory. To select only files with a certaing extension (like tiff) use \"*.tiff\"."
   ]
  },
  {
   "cell_type": "code",
   "execution_count": 1,
   "id": "074ad753",
   "metadata": {},
   "outputs": [
    {
     "name": "stdout",
     "output_type": "stream",
     "text": [
      "../data/Results_01.csv\n",
      "../data/Results_02.csv\n",
      "../data/bacteria_t1.png\n",
      "../data/TrackMate-edgeTable.csv\n",
      "../data/Results_total.csv\n",
      "../data/bacteria_drug_experiment.csv\n",
      "../data/colonies2_.png\n",
      "../data/rice.tif\n",
      "../data/bacterial_colony_radii_40replicates_with_area.csv\n",
      "../data/bacteria_drug_experiment_separated.csv\n",
      "../data/colonies_.png\n",
      "../data/colonies.tiff\n",
      "../data/bacteria_results_total.csv\n"
     ]
    }
   ],
   "source": [
    "\n",
    "#try the example code and se what it does. Try both versions of the for loop\n",
    "import glob\n",
    "my_directory = \"../data/\"\n",
    "for file_name in glob.glob(my_directory + \"*.*\"):\n",
    "    print(file_name)"
   ]
  },
  {
   "cell_type": "markdown",
   "id": "229c7caf",
   "metadata": {},
   "source": [
    "### Arrays\n",
    "If you want to store many things you can use an array. Arrays are good when you dont know exactly how many things you want to store since they can grow in size.\n",
    "\n",
    "Let´s say you want to store the name of all the files in a directory but you dont know how many files are there you can use an array like this:\n",
    "\n",
    "```\n",
    "import glob\n",
    "#declare the arrray variable\n",
    "file_names = [] # [] means it is an array\n",
    "for i, file_name in enumerate(glob.glob(my_directory + \"*.*\")):\n",
    "    file_names.append(file_name) #the append function adds an element last in the list\n",
    "\n",
    "#now print all elements in the array\n",
    "for n in file_names:\n",
    "    print(n)\n",
    "```\n",
    "\n",
    "To get the length (how many elements) of the array use \n",
    "```len(file_names)```\n",
    "\n",
    "Arrays can be indexed to get the i:th element (NOTE: i needs to be smaller than len(array)-1 and 0 is the index of the first element)\n",
    "\n",
    "```\n",
    "i = 4\n",
    "ith_file_name = file_names[i]\n",
    "```\n",
    "\n"
   ]
  },
  {
   "cell_type": "code",
   "execution_count": null,
   "id": "c037fca5",
   "metadata": {},
   "outputs": [],
   "source": []
  },
  {
   "cell_type": "markdown",
   "id": "36ec121f",
   "metadata": {},
   "source": [
    "### Load and display image files\n",
    "\n",
    "There are many ways to load and read image files in python. We will go over two of them:\n",
    "\n",
    "The first and a very straight forward way to do it is to use the skimage.io package\n",
    "\n",
    "```\n",
    "from skimage import io\n",
    "```\n",
    "\n",
    "and then \n",
    "```\n",
    "my_image = io.imread(\"../data/colonies_2.png\")\n",
    "```\n",
    "\n",
    "Plot the image with\n",
    "```\n",
    "import matplotlib.pyplot as plt\n",
    "\n",
    "plt.imshow(my_image)\n",
    "plt.axis(\"off\")\n",
    "plt.show()\n",
    "```\n"
   ]
  },
  {
   "cell_type": "code",
   "execution_count": null,
   "id": "7e03e491",
   "metadata": {},
   "outputs": [],
   "source": []
  },
  {
   "cell_type": "markdown",
   "id": "bb68e186",
   "metadata": {},
   "source": [
    "### Images with metadata\n",
    "\n",
    "The other way to read an image, in this case a tiff file (tiff is a common fileformat in the image analysis world), is to use the ```with``` statement in python.\n",
    "\n",
    "```with``` creates a scope in which a variable is valid and available and destroys the variable when the scope is exited.\n",
    "\n",
    "Tiff files may also contain metadata with information that might be usefull for the analyser like pixelsize, magnification, which microsope was used etc.\n",
    "\n",
    "In this case we have added some user defined data about the experiment; The bacteria name and the drug that was used.\n",
    "\n",
    "```\n",
    "import tifffile\n",
    "with tifffile.TiffFile(\"../data/bacteria/b1_d1.tiff\") as tif:\n",
    "    page = tif.pages[0]\n",
    "    desc = page.tags[\"ImageDescription\"].value\n",
    "    img = tif.asarray()\n",
    "```\n",
    "\n",
    "This part reads the file in to a variable called tif using the ```with``` statement. We can then read the data we are insterested in from tif. In this case we read the metadata stored in the tag 'ImageDescription'. We also read the image data.\n",
    "\n",
    "To plot the image we again use matplotlib:\n",
    "```\n",
    "import matplotlib.pyplot as plt\n",
    "plt.imshow(img)\n",
    "plt.axis(\"off\")\n",
    "plt.show()\n",
    "```\n",
    "\n",
    "The medata data ```desc``` is stored and read in a format called 'json'. There is, of course, a python package to read and manipulate json data.\n",
    "\n",
    "```\n",
    "import json\n",
    "\n",
    "info = json.loads(desc)\n",
    "bacteria = info[\"bacteria\"]\n",
    "drug = info[\"drug\"]\n",
    "```\n",
    "This splits the data and stores it in the variables 'bacteria' and 'drug' respectively.\n",
    "\n",
    "Print the bacteria and drug to see the values\n",
    "```\n",
    "print(\"Bacteria:\", bacteria)\n",
    "print(\"Drug:\", drug)\n",
    "```"
   ]
  },
  {
   "cell_type": "code",
   "execution_count": null,
   "id": "e1cbccb1",
   "metadata": {},
   "outputs": [],
   "source": []
  },
  {
   "cell_type": "markdown",
   "id": "d3af30eb",
   "metadata": {},
   "source": [
    "As you can se above, using numeric data and strings in Python is simple and is similar to the way we write in IJ macros. In fact IJ has a language called Jython, which you can use to program your macros. \n",
    "\n",
    "So why learn Python? because it is order of magnitudes better than IJ macros when doing data science operations, such as, statistics, data cleaning, modeling and plotting. \n"
   ]
  }
 ],
 "metadata": {
  "kernelspec": {
   "display_name": "imganalysis",
   "language": "python",
   "name": "python3"
  },
  "language_info": {
   "codemirror_mode": {
    "name": "ipython",
    "version": 3
   },
   "file_extension": ".py",
   "mimetype": "text/x-python",
   "name": "python",
   "nbconvert_exporter": "python",
   "pygments_lexer": "ipython3",
   "version": "3.12.11"
  }
 },
 "nbformat": 4,
 "nbformat_minor": 5
}
