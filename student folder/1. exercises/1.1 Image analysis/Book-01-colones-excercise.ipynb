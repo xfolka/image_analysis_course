{
 "cells": [
  {
   "cell_type": "markdown",
   "id": "e53241c4",
   "metadata": {},
   "source": [
    "## Analyse bacteria colony sizes\n",
    "\n",
    "**You can solve this exercise in pairs and/or discuss with your collegues as much as you like**\n",
    "\n",
    "The directory ```data/bacteria/``` contains \"microscope images\" from experiments done with three different bacteria, b1, b2 and b3, each treated with three different drugs, d1, d2 and d3 plus control group for each bacteria.\n",
    "The image are named according to bacteria and drug.\n",
    "We will process and analyse the images to see how the drugs have affected the sizes of the colonies the bacterias create. We will look at the area of the colonies.\n",
    "\n",
    "Then we will create a data table with all the collected data.\n",
    "\n",
    "Look at the images and see if you can figure out what preprocessing need to be done before labeling the colonies.\n",
    "\n",
    "Basic algorithmic layout:\n",
    "\n",
    "- import needed libraries (start with the ones you know and add more as you go along)\n",
    "\n",
    "- use a for loop to loop over the needed files in the directory and to the following for each file:\n",
    "    you probably need the index as well\n",
    "\n",
    "- open the tiff image and fetch the user defined metadata and read the image data.\n",
    "\n",
    "- preprocess\n",
    "- apply filters\n",
    "\n",
    "- remove items touching border\n",
    "\n",
    "- connected component analysis\n",
    "labeling\n",
    "\n",
    "- print how many colonies are found\n",
    "- plot the image\n",
    "\n",
    "- Store the loaded images,the labeld images and the metadata in arrays for later use!"
   ]
  },
  {
   "cell_type": "code",
   "execution_count": null,
   "id": "54223dcf",
   "metadata": {},
   "outputs": [],
   "source": [
    "\n",
    "#Write your solution here"
   ]
  },
  {
   "cell_type": "markdown",
   "id": "3c029b70",
   "metadata": {},
   "source": [
    "Now, lets collect the data and store it in a data fram for statistical analysis later\n",
    "\n",
    "Create tables of regions of all the loaded images and labled images by using '''skimage.measure.regionprops_table(...)'''\n",
    "\n",
    "Create panda frames from each table by adding the bacteria, the drug and the area for each colony.\n",
    "Bacteria and Drug are stored int he metadata.\n",
    "\n",
    "Use json package to read out bacteria and drug for each image/metadata\n",
    "\n",
    "Concatenate all frames to a single frame and save it as csv\n"
   ]
  },
  {
   "cell_type": "markdown",
   "id": "3a3f5401",
   "metadata": {},
   "source": [
    "Now we will gather the data we are interested in from the labeled images and store it in a table.\n",
    "We will also add information to the the tables to identify the bacteria and drug used.\n",
    "\n",
    "Algorithm outline:\n",
    "\n",
    "- import the needed libraries as before\n",
    "\n",
    "- crete a dataframe to store all other frames\n",
    "\n",
    "- loop over all the labeled image (the array you created)\n",
    "\n",
    "- crete the properties table using ```skimage.measure.regionprops_table( labeld image, original image, properties=['area','feret_diameter_max'])```\n",
    "\n",
    "- create the dataframe from the properties table\n",
    "\n",
    "- read the bacteria and drug metadata from the array before\n",
    "\n",
    "- add the columns 'bacteria' and 'drug' to the dataframe and set the respective data in it\n",
    "\n",
    "- add the frame to the toal frame\n",
    "\n",
    "- after the for loop, save the total frame and print some information about the total frame"
   ]
  },
  {
   "cell_type": "code",
   "execution_count": null,
   "id": "9437f22e",
   "metadata": {},
   "outputs": [],
   "source": [
    "\n",
    "#Write your solution here"
   ]
  },
  {
   "cell_type": "markdown",
   "id": "1fc92eba",
   "metadata": {},
   "source": []
  }
 ],
 "metadata": {
  "kernelspec": {
   "display_name": "imganalysis",
   "language": "python",
   "name": "python3"
  },
  "language_info": {
   "codemirror_mode": {
    "name": "ipython",
    "version": 3
   },
   "file_extension": ".py",
   "mimetype": "text/x-python",
   "name": "python",
   "nbconvert_exporter": "python",
   "pygments_lexer": "ipython3",
   "version": "3.12.11"
  }
 },
 "nbformat": 4,
 "nbformat_minor": 5
}
