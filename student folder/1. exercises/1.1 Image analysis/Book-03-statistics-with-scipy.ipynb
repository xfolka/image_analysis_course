{
 "cells": [
  {
   "cell_type": "markdown",
   "metadata": {},
   "source": [
    "## Statistical tests using Pandas and Scipy\n",
    "\n",
    "Here we will go over how to use ```scipy``` for statistical tests on pandas data frames. We will use tha data from our bacterias to examine the areas again.\n",
    "\n",
    "### Load the data\n",
    "Let us use what we learned before to load the ```.csv``` table into a data frame"
   ]
  },
  {
   "cell_type": "code",
   "execution_count": null,
   "metadata": {},
   "outputs": [],
   "source": [
    "import pandas as pd\n",
    "\n",
    "df = pd.read_csv(\"../data/bacteria_results_total.csv\")\n",
    "#df = pd.read_csv(\"../data/bacterial_colony_radii_40replicates_with_area.csv\")\n",
    "df.sample(5)"
   ]
  },
  {
   "cell_type": "markdown",
   "metadata": {},
   "source": [
    "And lets do a visual inspection of the data to see what it looks like"
   ]
  },
  {
   "cell_type": "code",
   "execution_count": null,
   "metadata": {},
   "outputs": [],
   "source": [
    "# simple box plot, to vissualy inspect if there are big differences between both groups\n",
    "df.boxplot(column=\"area\",by=[\"bacteria\",\"drug\"])"
   ]
  },
  {
   "cell_type": "markdown",
   "metadata": {},
   "source": [
    "## Using Scipy for Statistical Testing\n",
    "\n",
    "When performing a **statistical test**, we start with a **null hypothesis (H0)** and aim to **falsify** it. The **null hypothesis (H0)** typically posits that there is no relationship (or difference) between the distributions being tested. To evaluate whether **H0** is false, we use the **p-value**. The **p-value** estimates how likely it is to observe the differences between the two sets if the null hypothesis were true. For example, a p-value of 0.04 means there is a 4% chance that **H0** is true, which suggests that we report a statistically significant relationship (or difference) between the distributions. Note that the p-value does not indicate the importance or biological relevance of the observed relationship.\n",
    "\n",
    "## Scipy\n",
    "\n",
    "[Scipy](https://scipy.org/) is a comprehensive package for scientific computing widely used in Python. It is included in our virtual environment due to previously installed packages. To check if it is installed, try running the block below."
   ]
  },
  {
   "cell_type": "code",
   "execution_count": null,
   "metadata": {},
   "outputs": [],
   "source": [
    "# this time I am loading part of the library, the part called stats\n",
    "from scipy import stats \n",
    "# as this runs, we are good to continue"
   ]
  },
  {
   "cell_type": "markdown",
   "metadata": {},
   "source": [
    "For clarity let us get out the numbers of interest from the data table by using the ```query``` method of pandas data_frames. ```query``` allows us to extract values from a column while filtering based ob the values of another. Bellow, I ```query``` for the **Area** values that belong to **Student 01** and **02** respectively."
   ]
  },
  {
   "cell_type": "code",
   "execution_count": null,
   "metadata": {},
   "outputs": [],
   "source": [
    "Area_b1=df.query(\"bacteria == 'b3' and drug == 'control'\")['area']\n",
    "Area_b2=df.query(\"bacteria == 'b3' and drug == 'd3'\")['area']\n",
    "print(f\"{Area_b1.var()}, {Area_b2.var()}\")"
   ]
  },
  {
   "cell_type": "markdown",
   "metadata": {},
   "source": [
    "One of the most common mistakes while doing statistical testing is to use a particular method, e.g. t-test, whitout checkig first that the underlying assumptions of the test are true. In general we must check the following to know what tests we can use:\n",
    "\n",
    "* Independence: each meassurement of the variables is independent of each other\n",
    "\n",
    "* Normality: the data follows a normal distribution (Gaussian distribution)\n",
    "\n",
    "* Homogeneous variance: the variance (spread around the mean) within each group being compared is similar\n",
    "\n",
    "\n",
    "## Homogeneity\n",
    "Lets us first test for homogeneous variance "
   ]
  },
  {
   "cell_type": "code",
   "execution_count": null,
   "metadata": {},
   "outputs": [],
   "source": [
    "# homogeneity\n",
    "stats.levene(Area_b1, Area_b2)"
   ]
  },
  {
   "cell_type": "markdown",
   "metadata": {},
   "source": [
    "Interpretation:\n",
    "* Levene's Test Statistic: 0.1985: This value by itself doesn't tell us much. It's used to calculate the p-value.\n",
    "* P-value: 0.6567: This is the key value for interpretation. The p-value is much larger than the typical significance levels (0.05 or 0.01).\n",
    "\n",
    "How to interpret:\n",
    "1. Null Hypothesis (H0): The variances of the two groups (Area_s1 and Area_s2) are equal (homogeneous).\n",
    "2. Alternative Hypothesis (Ha): The variances of the two groups are not equal (heterogeneous).\n",
    "3. Decision Rule:\n",
    "    * If p-value < significance level (usually 0.05), reject the null hypothesis.\n",
    "    * If p-value ≥ significance level, fail to reject the null hypothesis.\n",
    "4. Interpretation:\n",
    "    * Since the p-value (0.6567) is much larger than 0.05, we fail to reject the null hypothesis.\n",
    "    * This means we do not have sufficient evidence to conclude that the variances are significantly different.\n",
    "    * In other words, we can assume that the variances are homogeneous.\n",
    "\n",
    "Conclusion:\n",
    "Based on Levene's test, we can conclude that there is no significant difference in the variances of Area_s1 and Area_s2. The assumption of homogeneity of variances is met."
   ]
  },
  {
   "cell_type": "markdown",
   "metadata": {},
   "source": [
    "## Normality\n",
    "\n",
    "Now we check is the distributions to test are normal - aka Gaussian"
   ]
  },
  {
   "cell_type": "code",
   "execution_count": null,
   "metadata": {},
   "outputs": [],
   "source": [
    "# Shapiro-Wilk test for normality\n",
    "stats.shapiro(Area_b1)"
   ]
  },
  {
   "cell_type": "markdown",
   "metadata": {},
   "source": [
    "Interpretation:\n",
    "1. Shapiro-Wilk Test Statistic: 0.9708\n",
    "    * This value ranges from 0 to 1.\n",
    "    * Values closer to 1 indicate a higher likelihood of normal distribution.\n",
    "    * 0.9708 is fairly close to 1, suggesting the data might be normally distributed.\n",
    "2. P-value: 0.1526\n",
    "    * This is the key value for interpretation.\n",
    "    * The p-value is larger than the typical significance levels (0.05 or 0.01).\n",
    "\n",
    "How to interpret:\n",
    "1. Null Hypothesis (H0): The sample data (Area_s1) is normally distributed.\n",
    "2. Alternative Hypothesis (Ha): The sample data is not normally distributed.\n",
    "3. Decision Rule:\n",
    "    * If p-value < significance level (usually 0.05), reject the null hypothesis.\n",
    "    * If p-value ≥ significance level, fail to reject the null hypothesis.\n",
    "4. Interpretation:\n",
    "    * Since the p-value (0.1526) is larger than 0.05, we fail to reject the null hypothesis.\n",
    "    * This means we do not have sufficient evidence to conclude that the data is not normally distributed.\n",
    "    * In other words, we can assume that Area_s1 is approximately normally distributed.\n",
    "\n",
    "Conclusion:\n",
    "Based on the Shapiro-Wilk test, we can conclude that there is no significant evidence against the normality of Area_s1. The data appears to be consistent with a normal distribution."
   ]
  },
  {
   "cell_type": "code",
   "execution_count": null,
   "metadata": {},
   "outputs": [],
   "source": [
    "# Shapiro-Wilk test for normality\n",
    "stats.shapiro(Area_b2)"
   ]
  },
  {
   "cell_type": "markdown",
   "metadata": {},
   "source": [
    "## The actual t-test\n",
    "\n",
    "Now that all seems to be good then we can run the t-test"
   ]
  },
  {
   "cell_type": "code",
   "execution_count": null,
   "metadata": {},
   "outputs": [],
   "source": [
    "# Independent t-test\n",
    "stats.ttest_ind(Area_b1, Area_b2)"
   ]
  },
  {
   "cell_type": "markdown",
   "metadata": {},
   "source": [
    "The independent samples t-test is used to determine whether there is a statistically significant difference between the means of two unrelated groups.\n",
    "\n",
    "Interpretation:\n",
    "1. T-statistic: 0.2079\n",
    "    * This value represents the difference between the two group means in units of standard error.\n",
    "    * The closer this value is to 0, the more similar the group means are.\n",
    "2. P-value: 0.8356\n",
    "    * This is the key value for interpretation.\n",
    "    * The p-value is much larger than the typical significance levels (0.05 or 0.01).\n",
    "3. Degrees of Freedom (df): 123\n",
    "    * This represents the sample size and complexity of the test.\n",
    "    * It's used in calculating the p-value and critical values.\n",
    "\n",
    "How to interpret:\n",
    "1. Null Hypothesis (H0): There is no significant difference between the means of Area_s1 and Area_s2.\n",
    "2. Alternative Hypothesis (Ha): There is a significant difference between the means of Area_s1 and Area_s2.\n",
    "3. Decision Rule:\n",
    "    * If p-value < significance level (usually 0.05), reject the null hypothesis.\n",
    "    * If p-value ≥ significance level, fail to reject the null hypothesis.\n",
    "4. Interpretation:\n",
    "    * Since the p-value (0.8356) is much larger than 0.05, we fail to reject the null hypothesis.\n",
    "    * This means we do not have sufficient evidence to conclude that there is a significant difference between the means of Area_s1 and Area_s2.\n",
    "\n",
    "Conclusion:\n",
    "Based on the t-test results, we can conclude that there is no statistically significant difference between the means of Area_s1 and Area_s2. \n",
    "The observed difference between the sample means is not convincing enough to say that the average Areas differ between the two groups in the population.\n",
    "\n",
    "Practical Implications:\n",
    "* The two groups (s1 and s2) appear to have similar average Areas.\n",
    "* Any observed differences in the sample means are likely due to random chance rather than a true difference in the populations.\n",
    "* This result suggests that the factor distinguishing s1 and s2 (e.g., different treatments, groups, etc.) does not significantly affect the Area measurement.\n",
    "\n",
    "Remember:\n",
    "* Failing to reject the null hypothesis doesn't prove that the means are exactly equal, just that we don't have enough evidence to conclude they're different."
   ]
  }
 ],
 "metadata": {
  "kernelspec": {
   "display_name": "imganalysis",
   "language": "python",
   "name": "python3"
  },
  "language_info": {
   "codemirror_mode": {
    "name": "ipython",
    "version": 3
   },
   "file_extension": ".py",
   "mimetype": "text/x-python",
   "name": "python",
   "nbconvert_exporter": "python",
   "pygments_lexer": "ipython3",
   "version": "3.12.11"
  },
  "orig_nbformat": 4
 },
 "nbformat": 4,
 "nbformat_minor": 2
}
