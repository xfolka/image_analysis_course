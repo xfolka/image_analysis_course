{
 "cells": [
  {
   "cell_type": "markdown",
   "id": "f119c0fc",
   "metadata": {},
   "source": [
    "## Statistical analysis on the bacteria colonies\n",
    "\n",
    "Start by reading the the .csv file from the previous step.\n",
    "\n",
    "Print the first few lines to see some of the data."
   ]
  },
  {
   "cell_type": "code",
   "execution_count": null,
   "id": "dceb6047",
   "metadata": {},
   "outputs": [],
   "source": [
    "import pandas as pd\n",
    "\n",
    "df = pd.read_csv(\"../data/bacteria_results_total.csv\")\n",
    "# Summary of all numeric columns\n",
    "print(df.head())"
   ]
  },
  {
   "cell_type": "markdown",
   "id": "a9381ce5",
   "metadata": {},
   "source": [
    "### Caclulate the mean area of the different colonies\n",
    "\n",
    "Now, we have seen how to use the ```mean()``` function on a data frame. What do you get if you calculate the mean of the area now?"
   ]
  },
  {
   "cell_type": "code",
   "execution_count": null,
   "id": "1f473cb3",
   "metadata": {},
   "outputs": [],
   "source": [
    "# Summary of all numeric columns\n",
    "print(df['area'].mean())\n",
    "\n"
   ]
  },
  {
   "cell_type": "markdown",
   "id": "2ac5fd8c",
   "metadata": {},
   "source": [
    "This is probably not what we want.\n",
    "Right now we would like the area of each bacteria type and drug type.\n",
    "\n",
    "We can do that by using a function called ```groupby(...)``` and give the column we want to group by.\n",
    "\n",
    "Try with grouping by \"bacteria\" and see what happens. \n"
   ]
  },
  {
   "cell_type": "code",
   "execution_count": null,
   "id": "4bee034e",
   "metadata": {},
   "outputs": [],
   "source": [
    "# group by bacteria and calculate the mean area for each bacteria type\n",
    "df.groupby(\"bacteria\")[\"area\"].mean()"
   ]
  },
  {
   "cell_type": "markdown",
   "id": "5551e187",
   "metadata": {},
   "source": [
    "We are close now :)\n",
    "\n",
    "It turns out ```groupby()``` is really nice. It lets us give an array of column names to group by. Which feels like what we want.\n",
    "\n",
    "To create an array 'on the fly' use square brackets [ ] around your strings.\n",
    "\n",
    "```groupy['column1','column2'])```"
   ]
  },
  {
   "cell_type": "code",
   "execution_count": null,
   "id": "6b142630",
   "metadata": {},
   "outputs": [],
   "source": [
    "#gruop by bacteria and drug and calculate the mean area for each combination\n",
    "df.groupby([\"bacteria\",\"drug\"])[\"area\"].mean()"
   ]
  },
  {
   "cell_type": "markdown",
   "id": "1937ee7c",
   "metadata": {},
   "source": [
    "HEUREKA!!"
   ]
  },
  {
   "cell_type": "markdown",
   "id": "d0dd16e8",
   "metadata": {},
   "source": [
    "So group by gives us a nice way to compile statistics according to several variables.\n",
    "\n",
    "We can also plot the values. For example, we can make histograms of the data we are interested in"
   ]
  },
  {
   "cell_type": "code",
   "execution_count": null,
   "id": "ab07e99d",
   "metadata": {},
   "outputs": [],
   "source": [
    "import matplotlib.pyplot as plt\n",
    "\n",
    "data_area = df.groupby([\"bacteria\",\"drug\"])[\"area\"]\n",
    "\n",
    "# Histogram of Math scores\n",
    "data_area.plot(kind=\"hist\", bins=30, title=\"Area Distribution\")\n",
    "plt.legend()\n",
    "plt.show()\n",
    "\n",
    "data_feret = df.groupby([\"bacteria\",\"drug\"])[\"feret_diameter_max\"]\n",
    "data_feret.plot(kind=\"hist\", bins=30, title=\"Feret Diameter Distribution\")\n",
    "plt.legend()\n",
    "plt.show()\n",
    "\n"
   ]
  },
  {
   "cell_type": "markdown",
   "id": "e693a03d",
   "metadata": {},
   "source": [
    "The function ```agg()``` allows us to aggregate data in convenient ways in its own data frame."
   ]
  },
  {
   "cell_type": "code",
   "execution_count": null,
   "id": "f69eb9ce",
   "metadata": {},
   "outputs": [],
   "source": [
    "agg_stats = df.groupby([\"drug\", \"bacteria\"]).agg({\n",
    "    \"area\": [\"mean\", \"std\", \"min\", \"max\"]\n",
    "})\n",
    "print(agg_stats)"
   ]
  },
  {
   "cell_type": "markdown",
   "id": "c5dd6da2",
   "metadata": {},
   "source": [
    "We can even aggregate data for more variables."
   ]
  },
  {
   "cell_type": "code",
   "execution_count": null,
   "id": "72217b2f",
   "metadata": {},
   "outputs": [],
   "source": [
    "# Multiple aggregations\n",
    "agg_stats = df.groupby([\"bacteria\",\"drug\"]).agg({\n",
    "    \"feret_diameter_max\": [\"mean\", \"std\", \"min\", \"max\"],\n",
    "    \"area\": [\"mean\", \"std\"]\n",
    "})\n",
    "print(agg_stats)\n"
   ]
  },
  {
   "cell_type": "markdown",
   "id": "0441dabf",
   "metadata": {},
   "source": [
    "### Pivot table\n",
    "Another way to organise the data is with a pivot table. Pandas can of course do this as well with a function called ```pivot_table```\n",
    "\n",
    "The parameters to the function, in this case, are:\n",
    "\n",
    "```values```: the value we are interested in\n",
    "\n",
    "```index```: the variable that will be the rows in the table\n",
    "\n",
    "```columns```: the variable that will be the columns in the table\n",
    "\n",
    "```aggfunc```: the functions we want to use to calculate/manipulat the values in the table"
   ]
  },
  {
   "cell_type": "code",
   "execution_count": null,
   "id": "b09577c3",
   "metadata": {},
   "outputs": [],
   "source": [
    "pivot = df.pivot_table(\n",
    "    values=[\"area\"],\n",
    "    columns=[\"drug\"],\n",
    "    index=[\"bacteria\"],\n",
    "    aggfunc=[\"mean\"]\n",
    ")\n",
    "print(pivot)"
   ]
  },
  {
   "cell_type": "code",
   "execution_count": null,
   "id": "925fd90c",
   "metadata": {},
   "outputs": [],
   "source": [
    "# Scatter plot to see relation between Math and Science scores\n",
    "df.plot(kind=\"scatter\", x=\"drug\", y=\"area\", alpha=0.7)\n",
    "plt.title(\"Math vs Science Scores\")\n",
    "plt.show()"
   ]
  }
 ],
 "metadata": {
  "kernelspec": {
   "display_name": "imganalysis",
   "language": "python",
   "name": "python3"
  },
  "language_info": {
   "codemirror_mode": {
    "name": "ipython",
    "version": 3
   },
   "file_extension": ".py",
   "mimetype": "text/x-python",
   "name": "python",
   "nbconvert_exporter": "python",
   "pygments_lexer": "ipython3",
   "version": "3.12.11"
  }
 },
 "nbformat": 4,
 "nbformat_minor": 5
}
